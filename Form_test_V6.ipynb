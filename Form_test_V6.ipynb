{
 "cells": [
  {
   "cell_type": "markdown",
   "id": "53a3d3ac-947e-4c8b-b74d-3130916f6592",
   "metadata": {
    "jp-MarkdownHeadingCollapsed": true
   },
   "source": [
    "### Demo: Parially automated PPV database.\n",
    "\n",
    "#### Human-generated and machine-generated data upload to Dataverse."
   ]
  },
  {
   "cell_type": "markdown",
   "id": "05fa4d4c-9f63-4171-8e15-4f342439a176",
   "metadata": {
    "jp-MarkdownHeadingCollapsed": true
   },
   "source": [
    "\n",
    "#### V3: Add a modified version of Yoni's code to create a form.\n",
    "RLH 041824\n",
    "\n",
    "#### V4: Add Dataverse integration from Felix.\n",
    "RLH 042724\n",
    "\n",
    "####  V5: Add a dropdown list to the form and populate it with Sample_ID's from the Dataverse table. Also added the code to call the 'insert-data.ps1' Powershell script and used it to insert data into the 'J-V_test_data_V2' table. Added support for optional image upload.   Added a lookup column with logical name 'cr69a_sampledatav2lookup'.  My efforts to insert the lookup from Powershell failed -- defering that to a later date.\n",
    "RLH 043024\n",
    "\n",
    "#### V6: Move the classes SampleDataverseTable and JVScanDataverseTable to a file called `db_dataverse.py'.\n",
    "RLHY 051224"
   ]
  },
  {
   "cell_type": "markdown",
   "id": "560e111b-eee2-4890-bc1b-c92b65620f1a",
   "metadata": {
    "jp-MarkdownHeadingCollapsed": true
   },
   "source": [
    "#### This is a screenshot the form for J-V test metadata:"
   ]
  },
  {
   "cell_type": "markdown",
   "id": "614fde0a",
   "metadata": {},
   "source": [
    "####\n",
    "\n",
    "<div>\n",
    "<img src=\"attachment:form_screenshot_V2.png\" width=\"250\"/>\n",
    "</div>"
   ]
  },
  {
   "cell_type": "markdown",
   "id": "1b7d290e-6f25-464b-8087-5265b09d2bbd",
   "metadata": {
    "jp-MarkdownHeadingCollapsed": true
   },
   "source": [
    "### 1. This is the sample data input form:"
   ]
  },
  {
   "cell_type": "markdown",
   "id": "db6b6823-05fb-418a-9e3f-4cc31207ba6f",
   "metadata": {},
   "source": [
    "<div>\n",
    "<img src=\"attachment:71caadf0-1c68-46d2-bc49-2f56f2507f63.png\" width=\"350\"/>\n",
    "</div>"
   ]
  },
  {
   "cell_type": "markdown",
   "id": "05500124-080e-44ac-afec-f259db5e4461",
   "metadata": {},
   "source": [
    "##### QR code for the sample data import:\n",
    "\n",
    "\n",
    "\n",
    "<div>\n",
    "<img src=\"attachment:88403105-bb18-4e27-af9a-db6ec4f3dbb2.png\" width=\"250\"/>\n",
    "</div>\n",
    "\n"
   ]
  },
  {
   "cell_type": "markdown",
   "id": "709bfb98-f5b1-4c7c-82f3-6b35c1ae1cb0",
   "metadata": {},
   "source": [
    "### 2. Felix's code to retrieve Sample ID's. \n",
    "\n",
    "This version returns a list of Sample_ID's from the table \"Sample Data V2\" (cr69a_sampledatav2) It ss in python, calling a Powershell script.  "
   ]
  },
  {
   "cell_type": "markdown",
   "id": "9de97047-7d0d-480c-bd7e-6af131a3f108",
   "metadata": {},
   "source": [
    "#### `SampleDataverseTable` class.   050524 RLH. "
   ]
  },
  {
   "cell_type": "code",
   "execution_count": 2,
   "id": "182567d4-b0d9-408d-baf7-15c96f065563",
   "metadata": {},
   "outputs": [
    {
     "name": "stdout",
     "output_type": "stream",
     "text": [
      "['Hamamatsu_S1787-12', 'NiOx-11', '050124_test_randy_4']\n"
     ]
    },
    {
     "data": {
      "text/html": [
       "<div>\n",
       "<style scoped>\n",
       "    .dataframe tbody tr th:only-of-type {\n",
       "        vertical-align: middle;\n",
       "    }\n",
       "\n",
       "    .dataframe tbody tr th {\n",
       "        vertical-align: top;\n",
       "    }\n",
       "\n",
       "    .dataframe thead th {\n",
       "        text-align: right;\n",
       "    }\n",
       "</style>\n",
       "<table border=\"1\" class=\"dataframe\">\n",
       "  <thead>\n",
       "    <tr style=\"text-align: right;\">\n",
       "      <th></th>\n",
       "      <th>Sample ID</th>\n",
       "      <th>Operator</th>\n",
       "      <th>Perovskite Composition</th>\n",
       "      <th>HTL Material</th>\n",
       "      <th>ETL Material</th>\n",
       "      <th>Top Capping Material</th>\n",
       "      <th>Bottom Capping Material</th>\n",
       "      <th>Bulk Passivation Materials</th>\n",
       "      <th>Is Encapsulated</th>\n",
       "    </tr>\n",
       "  </thead>\n",
       "  <tbody>\n",
       "    <tr>\n",
       "      <th>0</th>\n",
       "      <td>Hamamatsu_S1787-12</td>\n",
       "      <td>Randy</td>\n",
       "      <td>Silicon</td>\n",
       "      <td></td>\n",
       "      <td></td>\n",
       "      <td></td>\n",
       "      <td></td>\n",
       "      <td></td>\n",
       "      <td>True</td>\n",
       "    </tr>\n",
       "    <tr>\n",
       "      <th>1</th>\n",
       "      <td>NiOx-11</td>\n",
       "      <td>Seid</td>\n",
       "      <td>FAPI</td>\n",
       "      <td>NiOx</td>\n",
       "      <td>C60/BCP</td>\n",
       "      <td>3MTPAI</td>\n",
       "      <td>PEAI</td>\n",
       "      <td>[\"MDACl2\",\"MACl\"]</td>\n",
       "      <td>True</td>\n",
       "    </tr>\n",
       "    <tr>\n",
       "      <th>2</th>\n",
       "      <td>050124_test_randy_4</td>\n",
       "      <td>Randy</td>\n",
       "      <td>FAPI</td>\n",
       "      <td>PTAA</td>\n",
       "      <td>SnO2</td>\n",
       "      <td>PEACl</td>\n",
       "      <td>None</td>\n",
       "      <td>[\"MDACl2\"]</td>\n",
       "      <td>True</td>\n",
       "    </tr>\n",
       "  </tbody>\n",
       "</table>\n",
       "</div>"
      ],
      "text/plain": [
       "             Sample ID Operator Perovskite Composition HTL Material  \\\n",
       "0   Hamamatsu_S1787-12    Randy                Silicon                \n",
       "1              NiOx-11     Seid                   FAPI         NiOx   \n",
       "2  050124_test_randy_4    Randy                   FAPI         PTAA   \n",
       "\n",
       "  ETL Material Top Capping Material Bottom Capping Material  \\\n",
       "0                                                             \n",
       "1      C60/BCP               3MTPAI                    PEAI   \n",
       "2         SnO2                PEACl                    None   \n",
       "\n",
       "  Bulk Passivation Materials Is Encapsulated  \n",
       "0                                       True  \n",
       "1          [\"MDACl2\",\"MACl\"]            True  \n",
       "2                 [\"MDACl2\"]            True  "
      ]
     },
     "execution_count": 2,
     "metadata": {},
     "output_type": "execute_result"
    }
   ],
   "source": [
    "# Example usage:\n",
    "from db_dataverse import SampleDataverseTable # Dataverse code.\n",
    "table = SampleDataverseTable(\"cr69a_sampledatav2s\")\n",
    "sample_ids, recent_values, result = table.recent_entries(3)\n",
    "print(sample_ids)\n",
    "recent_values"
   ]
  },
  {
   "cell_type": "markdown",
   "id": "093d8183-a0f4-4d51-86c0-2c3692a7cf02",
   "metadata": {},
   "source": [
    "### 3. Yoni's J-V test metadata form: This version includes the dropdown.\n",
    "\n",
    "RLH 043024"
   ]
  },
  {
   "cell_type": "code",
   "execution_count": 3,
   "id": "79f5a146-a117-48d1-9517-26a769a5f0e6",
   "metadata": {},
   "outputs": [
    {
     "data": {
      "text/plain": [
       "'c:\\\\Users\\\\RandallHeadrick\\\\OneDrive - University of Vermont\\\\Software_development\\\\K2401SSDB'"
      ]
     },
     "execution_count": 3,
     "metadata": {},
     "output_type": "execute_result"
    }
   ],
   "source": [
    "pwd"
   ]
  },
  {
   "cell_type": "code",
   "execution_count": 4,
   "id": "28697235-a37f-46de-a307-ef69e285cedb",
   "metadata": {},
   "outputs": [],
   "source": [
    "# Example usage:\n",
    "import db_form  # Yoni's form code.\n",
    "import ipywidgets as widgets\n",
    "import json\n",
    "import os\n",
    "\n",
    "# The questions json file can be anywhere, but it will usually be in the directory with this Notebook.\n",
    "questions_file_main= '../K2401SSDB/main_questions.json'\n",
    "dir_path_local = '../K2401SSDB'\n",
    "#dir_path_local = '../catcoders_2024/nonexistant'\n",
    "#dir_path_local = '../../Jim_043024'\n",
    "form = db_form.parameters_form(persistent=False, dir_path_local=dir_path_local, \n",
    "                               questions_file_main=questions_file_main, drop_down_values=[sample_ids])\n",
    "form.dropdown_values = sample_ids"
   ]
  },
  {
   "cell_type": "code",
   "execution_count": 5,
   "id": "3ba37690-e449-4402-8def-f18682929806",
   "metadata": {},
   "outputs": [
    {
     "name": "stdout",
     "output_type": "stream",
     "text": [
      "['Hamamatsu_S1787-12', 'NiOx-11', '050124_test_randy_4']\n"
     ]
    }
   ],
   "source": [
    "print(form.dropdown_values)"
   ]
  },
  {
   "cell_type": "code",
   "execution_count": 6,
   "id": "4aec0021-28ba-4824-a7a6-8b9226d1b263",
   "metadata": {},
   "outputs": [
    {
     "data": {
      "application/vnd.jupyter.widget-view+json": {
       "model_id": "fdf678b21ffd4d6983b17f0793ee34c0",
       "version_major": 2,
       "version_minor": 0
      },
      "text/plain": [
       "Output(layout=Layout(border_bottom='1px solid black', border_left='1px solid black', border_right='1px solid b…"
      ]
     },
     "metadata": {},
     "output_type": "display_data"
    },
    {
     "data": {
      "application/vnd.jupyter.widget-view+json": {
       "model_id": "87d1c46d894d449a8015968953d3d5bf",
       "version_major": 2,
       "version_minor": 0
      },
      "text/plain": [
       "VBox(children=(VBox(children=(Label(value='Operator', style=LabelStyle(font_weight='bold')), RadioButtons(opti…"
      ]
     },
     "metadata": {},
     "output_type": "display_data"
    },
    {
     "data": {
      "application/vnd.jupyter.widget-view+json": {
       "model_id": "a96516deef574748b1bce13ffd844fc8",
       "version_major": 2,
       "version_minor": 0
      },
      "text/plain": [
       "Button(button_style='success', description='Submit', style=ButtonStyle())"
      ]
     },
     "metadata": {},
     "output_type": "display_data"
    },
    {
     "name": "stdout",
     "output_type": "stream",
     "text": [
      "Form responses: \"['K2401ssdb', 'Hamamatsu_S1787-12', [False, True, False], 'Downstairs (W125)', '2', 'No', 'Yes', '55.0', '0.815']\"\n"
     ]
    }
   ],
   "source": [
    "form.display_question_canvas()"
   ]
  },
  {
   "cell_type": "code",
   "execution_count": 7,
   "id": "cfa1fb0b-19d1-4af6-884a-6d06461d69be",
   "metadata": {},
   "outputs": [
    {
     "name": "stdout",
     "output_type": "stream",
     "text": [
      "['K2401ssdb', 'Hamamatsu_S1787-12', [False, True, False], 'Downstairs (W125)', '2', 'No', 'Yes', '55.0', '0.815']\n"
     ]
    }
   ],
   "source": [
    "print(form.responses)"
   ]
  },
  {
   "cell_type": "markdown",
   "id": "16db285f-aad6-41b1-bfce-593453df916e",
   "metadata": {},
   "source": [
    "### 4. Collect the J-V data.\n",
    "\n",
    "Here we will load old data that has been saved to a file as a demonstration.\n",
    "The data was harvested from the data files on the laptop computer we use in the W426 lab."
   ]
  },
  {
   "cell_type": "markdown",
   "id": "29ad826b-a3c6-4263-b6a4-96407f72f060",
   "metadata": {},
   "source": [
    "#### Before we collect the J-V data we need to confirm that the sample chosen actually exists."
   ]
  },
  {
   "cell_type": "code",
   "execution_count": 8,
   "id": "9e9ff63f-be50-48bd-bf8e-6ae92bf2d6ec",
   "metadata": {},
   "outputs": [
    {
     "name": "stdout",
     "output_type": "stream",
     "text": [
      "Test 11\n"
     ]
    }
   ],
   "source": [
    "sample_id = form.responses[1]\n",
    "#sample_id = \"junkeddy_junk\"\n",
    "sample_id = \"Test 11\"\n",
    "Sample_primary_ID = ''\n",
    "allow_entry =  False\n",
    "print(sample_id)"
   ]
  },
  {
   "cell_type": "code",
   "execution_count": 12,
   "id": "0a74ac1b-a1eb-45db-8361-dfb0877c4b50",
   "metadata": {},
   "outputs": [
    {
     "name": "stdout",
     "output_type": "stream",
     "text": [
      "\n",
      " PowerShell: Invalid: Sample ID was not found. \n",
      "\n",
      "Sample ID 'Test 11' was not found in the table 'cr69a_sampledatav2s', please enter a new sample ID.\n",
      "\n",
      " PowerShell: Invalid: Sample ID was not found. \n",
      "\n",
      "Sample ID 'allow_entry, Sample_primary_ID, check_existence_result' was not found in the table 'cr69a_sampledatav2s', please enter a new sample ID.\n",
      "\n",
      " PowerShell: Found the Sample ID: 'Hamamatsu_S1787-12', 'Sample_data_V2_ID': f9cdbf0e-6f12-ef11-9f8a-000d3a55d192, 'Operator': Randy, 'Entry Date': 05/15/2024 03:50:00, 'Cell_active_area': 0.0672 \n",
      "\n",
      "\n",
      "Confirmed the Sample ID: 'Hamamatsu_S1787-12'.\n"
     ]
    }
   ],
   "source": [
    "# See the class DataverseTable for the function code.\n",
    "table = SampleDataverseTable(\"cr69a_sampledatav2s\")\n",
    "allow_entry, Sample_primary_ID, check_existence_result = table.check_existence(sample_id)\n",
    "# print(allow_entry)"
   ]
  },
  {
   "cell_type": "code",
   "execution_count": 13,
   "id": "8e2a3cae-87ac-4506-98e0-fa991ec803e4",
   "metadata": {},
   "outputs": [
    {
     "data": {
      "text/plain": [
       "'f9cdbf0e-6f12-ef11-9f8a-000d3a55d192'"
      ]
     },
     "execution_count": 13,
     "metadata": {},
     "output_type": "execute_result"
    }
   ],
   "source": [
    "Sample_primary_ID"
   ]
  },
  {
   "cell_type": "code",
   "execution_count": 14,
   "id": "6798a2bc-d987-44d8-b8c6-0d94f4307d2e",
   "metadata": {},
   "outputs": [],
   "source": [
    "#  get the test data\n",
    "import pandas as pd\n",
    "cell_data_dataframe  = pd.read_csv('test_JV_data.csv')"
   ]
  },
  {
   "cell_type": "code",
   "execution_count": 15,
   "id": "b8449171-ce80-4928-8c19-abe59fd1ddd9",
   "metadata": {},
   "outputs": [
    {
     "data": {
      "text/html": [
       "<div>\n",
       "<style scoped>\n",
       "    .dataframe tbody tr th:only-of-type {\n",
       "        vertical-align: middle;\n",
       "    }\n",
       "\n",
       "    .dataframe tbody tr th {\n",
       "        vertical-align: top;\n",
       "    }\n",
       "\n",
       "    .dataframe thead th {\n",
       "        text-align: right;\n",
       "    }\n",
       "</style>\n",
       "<table border=\"1\" class=\"dataframe\">\n",
       "  <thead>\n",
       "    <tr style=\"text-align: right;\">\n",
       "      <th></th>\n",
       "      <th>Sample_ID</th>\n",
       "      <th>Elapsed Time</th>\n",
       "      <th>Test_ID</th>\n",
       "      <th>I_ph(suns)</th>\n",
       "      <th>V_oc(V)</th>\n",
       "      <th>mpp(V)</th>\n",
       "      <th>J_sc(mA)</th>\n",
       "      <th>R_sh</th>\n",
       "      <th>R_ser</th>\n",
       "      <th>FF</th>\n",
       "      <th>PCE(%)</th>\n",
       "    </tr>\n",
       "  </thead>\n",
       "  <tbody>\n",
       "    <tr>\n",
       "      <th>0</th>\n",
       "      <td>NiOx_C2_77d_4F</td>\n",
       "      <td>5.597869</td>\n",
       "      <td>NiOx_C2_77d_4F_094305</td>\n",
       "      <td>0.805</td>\n",
       "      <td>1.074103</td>\n",
       "      <td>0.775</td>\n",
       "      <td>21.923187</td>\n",
       "      <td>266.104605</td>\n",
       "      <td>10.039115</td>\n",
       "      <td>0.464750</td>\n",
       "      <td>10.943837</td>\n",
       "    </tr>\n",
       "    <tr>\n",
       "      <th>1</th>\n",
       "      <td>NiOx_C2_77d_4R</td>\n",
       "      <td>5.597905</td>\n",
       "      <td>NiOx_C2_77d_4R_094305</td>\n",
       "      <td>0.805</td>\n",
       "      <td>1.080675</td>\n",
       "      <td>0.750</td>\n",
       "      <td>21.689500</td>\n",
       "      <td>582.101632</td>\n",
       "      <td>7.969562</td>\n",
       "      <td>0.513278</td>\n",
       "      <td>12.030875</td>\n",
       "    </tr>\n",
       "    <tr>\n",
       "      <th>2</th>\n",
       "      <td>NiOx_C2_77d_5F</td>\n",
       "      <td>7.150103</td>\n",
       "      <td>NiOx_C2_77d_5F_094439</td>\n",
       "      <td>0.805</td>\n",
       "      <td>1.081829</td>\n",
       "      <td>0.800</td>\n",
       "      <td>21.938013</td>\n",
       "      <td>294.705449</td>\n",
       "      <td>6.328962</td>\n",
       "      <td>0.482623</td>\n",
       "      <td>11.454176</td>\n",
       "    </tr>\n",
       "    <tr>\n",
       "      <th>3</th>\n",
       "      <td>NiOx_C2_77d_5R</td>\n",
       "      <td>7.150362</td>\n",
       "      <td>NiOx_C2_77d_5R_094439</td>\n",
       "      <td>0.805</td>\n",
       "      <td>1.101452</td>\n",
       "      <td>0.875</td>\n",
       "      <td>21.778660</td>\n",
       "      <td>853.001511</td>\n",
       "      <td>6.043041</td>\n",
       "      <td>0.592451</td>\n",
       "      <td>14.211803</td>\n",
       "    </tr>\n",
       "    <tr>\n",
       "      <th>4</th>\n",
       "      <td>NiOx_C2_77d_6F</td>\n",
       "      <td>8.706784</td>\n",
       "      <td>NiOx_C2_77d_6F_094612</td>\n",
       "      <td>0.805</td>\n",
       "      <td>1.076664</td>\n",
       "      <td>0.800</td>\n",
       "      <td>22.521313</td>\n",
       "      <td>423.929593</td>\n",
       "      <td>5.807517</td>\n",
       "      <td>0.500236</td>\n",
       "      <td>12.129664</td>\n",
       "    </tr>\n",
       "  </tbody>\n",
       "</table>\n",
       "</div>"
      ],
      "text/plain": [
       "        Sample_ID  Elapsed Time                Test_ID  I_ph(suns)   V_oc(V)  \\\n",
       "0  NiOx_C2_77d_4F      5.597869  NiOx_C2_77d_4F_094305       0.805  1.074103   \n",
       "1  NiOx_C2_77d_4R      5.597905  NiOx_C2_77d_4R_094305       0.805  1.080675   \n",
       "2  NiOx_C2_77d_5F      7.150103  NiOx_C2_77d_5F_094439       0.805  1.081829   \n",
       "3  NiOx_C2_77d_5R      7.150362  NiOx_C2_77d_5R_094439       0.805  1.101452   \n",
       "4  NiOx_C2_77d_6F      8.706784  NiOx_C2_77d_6F_094612       0.805  1.076664   \n",
       "\n",
       "   mpp(V)   J_sc(mA)        R_sh      R_ser        FF     PCE(%)  \n",
       "0   0.775  21.923187  266.104605  10.039115  0.464750  10.943837  \n",
       "1   0.750  21.689500  582.101632   7.969562  0.513278  12.030875  \n",
       "2   0.800  21.938013  294.705449   6.328962  0.482623  11.454176  \n",
       "3   0.875  21.778660  853.001511   6.043041  0.592451  14.211803  \n",
       "4   0.800  22.521313  423.929593   5.807517  0.500236  12.129664  "
      ]
     },
     "execution_count": 15,
     "metadata": {},
     "output_type": "execute_result"
    }
   ],
   "source": [
    "cell_data_dataframe.head()"
   ]
  },
  {
   "cell_type": "markdown",
   "id": "e5cfc635-16db-4b09-8452-29f2518ce23d",
   "metadata": {},
   "source": [
    "### 5. Save to the J-V_test_data V2 table\n",
    "\n",
    "* Starting point is form-to-dataverse.py by Felix\n",
    "* A modification of 'insert_data.ps1' accepts 18 parameters, including from Yoni's form plus the machine generated J-V scan data.\n",
    "* Upload the 17 parameters to the form to the table J-V_test_data  with plural name cr69a_jv_test_datas .\n",
    "* Alternately we may use cr69a_jv_test_data_v2 or new_jv_tests\n",
    "* new_jv_tests has a Lookup for the Sample name, which I don't know how to use yet.\n",
    "\n",
    "042824  RLH\n",
    "\n",
    "\n",
    "* Pardon the messy code, I'm going to join the user-supplied data with the machine-generated data.\n",
    "* Then upload the record to the table `J-V_test_data`.\n",
    "  \n",
    "043024 RLH"
   ]
  },
  {
   "cell_type": "markdown",
   "id": "85c17b3f-00c2-4d53-871b-47b2e246a490",
   "metadata": {},
   "source": [
    "####  Load the data (normally will be done with the solar simulator tester)."
   ]
  },
  {
   "cell_type": "code",
   "execution_count": 16,
   "id": "eacf356b-7c3f-4bff-bf4b-bfda927f389d",
   "metadata": {},
   "outputs": [
    {
     "data": {
      "text/html": [
       "<div>\n",
       "<style scoped>\n",
       "    .dataframe tbody tr th:only-of-type {\n",
       "        vertical-align: middle;\n",
       "    }\n",
       "\n",
       "    .dataframe tbody tr th {\n",
       "        vertical-align: top;\n",
       "    }\n",
       "\n",
       "    .dataframe thead th {\n",
       "        text-align: right;\n",
       "    }\n",
       "</style>\n",
       "<table border=\"1\" class=\"dataframe\">\n",
       "  <thead>\n",
       "    <tr style=\"text-align: right;\">\n",
       "      <th></th>\n",
       "      <th>Sample_ID</th>\n",
       "      <th>Elapsed Time</th>\n",
       "      <th>Test_ID</th>\n",
       "      <th>I_ph(suns)</th>\n",
       "      <th>V_oc(V)</th>\n",
       "      <th>mpp(V)</th>\n",
       "      <th>J_sc(mA)</th>\n",
       "      <th>R_sh</th>\n",
       "      <th>R_ser</th>\n",
       "      <th>FF</th>\n",
       "      <th>PCE(%)</th>\n",
       "    </tr>\n",
       "  </thead>\n",
       "  <tbody>\n",
       "    <tr>\n",
       "      <th>0</th>\n",
       "      <td>Hamamatsu_S1787-12</td>\n",
       "      <td>5.597869</td>\n",
       "      <td>NiOx_C2_77d_4F_094305</td>\n",
       "      <td>0.805</td>\n",
       "      <td>1.074103</td>\n",
       "      <td>0.775</td>\n",
       "      <td>21.923187</td>\n",
       "      <td>266.104605</td>\n",
       "      <td>10.039115</td>\n",
       "      <td>0.46475</td>\n",
       "      <td>10.943837</td>\n",
       "    </tr>\n",
       "  </tbody>\n",
       "</table>\n",
       "</div>"
      ],
      "text/plain": [
       "            Sample_ID  Elapsed Time                Test_ID  I_ph(suns)  \\\n",
       "0  Hamamatsu_S1787-12      5.597869  NiOx_C2_77d_4F_094305       0.805   \n",
       "\n",
       "    V_oc(V)  mpp(V)   J_sc(mA)        R_sh      R_ser       FF     PCE(%)  \n",
       "0  1.074103   0.775  21.923187  266.104605  10.039115  0.46475  10.943837  "
      ]
     },
     "execution_count": 16,
     "metadata": {},
     "output_type": "execute_result"
    }
   ],
   "source": [
    "# Just the first row is enough for this test.\n",
    "first_data_record = cell_data_dataframe[:1]\n",
    "first_data_record.loc[0,'Sample_ID'] = form.responses[1]\n",
    "first_data_record"
   ]
  },
  {
   "cell_type": "markdown",
   "id": "79d1d0af-0f80-4efd-84fe-99f1655a87d5",
   "metadata": {},
   "source": [
    "#### The form responses contain the 9  user-supplied data fields."
   ]
  },
  {
   "cell_type": "code",
   "execution_count": 17,
   "id": "f52bccfa-694b-4d6c-aebb-f8f65c17ace8",
   "metadata": {},
   "outputs": [
    {
     "data": {
      "text/plain": [
       "['K2401ssdb',\n",
       " 'Hamamatsu_S1787-12',\n",
       " [False, True, False],\n",
       " 'Downstairs (W125)',\n",
       " '2',\n",
       " 'No',\n",
       " 'Yes',\n",
       " '55.0',\n",
       " '0.815']"
      ]
     },
     "execution_count": 17,
     "metadata": {},
     "output_type": "execute_result"
    }
   ],
   "source": [
    "form.responses"
   ]
  },
  {
   "cell_type": "code",
   "execution_count": 18,
   "id": "46b9fc01-2c61-46fa-a7b9-4877cde63f73",
   "metadata": {},
   "outputs": [
    {
     "name": "stdout",
     "output_type": "stream",
     "text": [
      "User-supplied data:\n",
      " ['K2401ssdb', 'Hamamatsu_S1787-12', [False, True, False], 'Downstairs (W125)', '2', 'No', 'Yes', '55.0', '0.815']\n"
     ]
    }
   ],
   "source": [
    "print(\"User-supplied data:\\n\", form.responses)\n",
    "[operator, sample_ID, scan_type, lab_loc, cellnum, is_module, is_masked, mask_area, I_ph] =  form.responses\n",
    "# Convert scan type to 'F', 'R', 'S' for Fwd, Rev, and Stabilized scan types.\n",
    "sc_type_new = \"\"\n",
    "if scan_type[0]:\n",
    "    sc_type_new += 'F'\n",
    "if scan_type[1]:\n",
    "    sc_type_new += 'R'\n",
    "if scan_type[2]:\n",
    "    sc_type_new += 'S'\n",
    "scan_type = sc_type_new"
   ]
  },
  {
   "cell_type": "code",
   "execution_count": 19,
   "id": "76cc0695-c1dc-4a3c-86a2-da7081f96867",
   "metadata": {},
   "outputs": [
    {
     "data": {
      "text/html": [
       "<div>\n",
       "<style scoped>\n",
       "    .dataframe tbody tr th:only-of-type {\n",
       "        vertical-align: middle;\n",
       "    }\n",
       "\n",
       "    .dataframe tbody tr th {\n",
       "        vertical-align: top;\n",
       "    }\n",
       "\n",
       "    .dataframe thead th {\n",
       "        text-align: right;\n",
       "    }\n",
       "</style>\n",
       "<table border=\"1\" class=\"dataframe\">\n",
       "  <thead>\n",
       "    <tr style=\"text-align: right;\">\n",
       "      <th></th>\n",
       "      <th>Operator</th>\n",
       "      <th>Scan_type</th>\n",
       "      <th>Lab_location</th>\n",
       "      <th>Cell_number</th>\n",
       "      <th>Module</th>\n",
       "      <th>Masked</th>\n",
       "      <th>Mask_area</th>\n",
       "    </tr>\n",
       "  </thead>\n",
       "  <tbody>\n",
       "    <tr>\n",
       "      <th>0</th>\n",
       "      <td>K2401ssdb</td>\n",
       "      <td>R</td>\n",
       "      <td>Downstairs (W125)</td>\n",
       "      <td>2</td>\n",
       "      <td>No</td>\n",
       "      <td>Yes</td>\n",
       "      <td>55.0</td>\n",
       "    </tr>\n",
       "  </tbody>\n",
       "</table>\n",
       "</div>"
      ],
      "text/plain": [
       "    Operator Scan_type       Lab_location Cell_number Module Masked Mask_area\n",
       "0  K2401ssdb         R  Downstairs (W125)           2     No    Yes      55.0"
      ]
     },
     "execution_count": 19,
     "metadata": {},
     "output_type": "execute_result"
    }
   ],
   "source": [
    "data = { 'Operator':    [operator],\n",
    "        'Scan_type':    [scan_type],\n",
    "        'Lab_location': [lab_loc],\n",
    "        'Cell_number':  [cellnum],\n",
    "        'Module':       [is_module],\n",
    "        'Masked':       [is_masked],\n",
    "        'Mask_area':    [mask_area]\n",
    "        }\n",
    "form_dataframe = pd.DataFrame(data)\n",
    "form_dataframe"
   ]
  },
  {
   "cell_type": "code",
   "execution_count": 20,
   "id": "0e9cc79b-c540-4181-ad35-2b00440a38c3",
   "metadata": {},
   "outputs": [
    {
     "data": {
      "text/html": [
       "<div>\n",
       "<style scoped>\n",
       "    .dataframe tbody tr th:only-of-type {\n",
       "        vertical-align: middle;\n",
       "    }\n",
       "\n",
       "    .dataframe tbody tr th {\n",
       "        vertical-align: top;\n",
       "    }\n",
       "\n",
       "    .dataframe thead th {\n",
       "        text-align: right;\n",
       "    }\n",
       "</style>\n",
       "<table border=\"1\" class=\"dataframe\">\n",
       "  <thead>\n",
       "    <tr style=\"text-align: right;\">\n",
       "      <th></th>\n",
       "      <th>Sample_ID</th>\n",
       "      <th>Elapsed Time</th>\n",
       "      <th>Test_ID</th>\n",
       "      <th>I_ph(suns)</th>\n",
       "      <th>V_oc(V)</th>\n",
       "      <th>mpp(V)</th>\n",
       "      <th>J_sc(mA)</th>\n",
       "      <th>R_sh</th>\n",
       "      <th>R_ser</th>\n",
       "      <th>FF</th>\n",
       "      <th>PCE(%)</th>\n",
       "    </tr>\n",
       "  </thead>\n",
       "  <tbody>\n",
       "    <tr>\n",
       "      <th>0</th>\n",
       "      <td>Hamamatsu_S1787-12</td>\n",
       "      <td>5.597869</td>\n",
       "      <td>NiOx_C2_77d_4F_094305</td>\n",
       "      <td>0.805</td>\n",
       "      <td>1.074103</td>\n",
       "      <td>0.775</td>\n",
       "      <td>21.923187</td>\n",
       "      <td>266.104605</td>\n",
       "      <td>10.039115</td>\n",
       "      <td>0.46475</td>\n",
       "      <td>10.943837</td>\n",
       "    </tr>\n",
       "  </tbody>\n",
       "</table>\n",
       "</div>"
      ],
      "text/plain": [
       "            Sample_ID  Elapsed Time                Test_ID  I_ph(suns)  \\\n",
       "0  Hamamatsu_S1787-12      5.597869  NiOx_C2_77d_4F_094305       0.805   \n",
       "\n",
       "    V_oc(V)  mpp(V)   J_sc(mA)        R_sh      R_ser       FF     PCE(%)  \n",
       "0  1.074103   0.775  21.923187  266.104605  10.039115  0.46475  10.943837  "
      ]
     },
     "execution_count": 20,
     "metadata": {},
     "output_type": "execute_result"
    }
   ],
   "source": [
    "first_data_record"
   ]
  },
  {
   "cell_type": "markdown",
   "id": "5fc1b2b5-43a5-4aa9-a95a-aac07d3966d0",
   "metadata": {},
   "source": [
    "#### The joining happens here."
   ]
  },
  {
   "cell_type": "code",
   "execution_count": 21,
   "id": "87e58ba1-0d3c-4658-b197-04cbec67d352",
   "metadata": {},
   "outputs": [],
   "source": [
    "# The joining happens here.\n",
    "first_data_record = first_data_record.join(form_dataframe)"
   ]
  },
  {
   "cell_type": "code",
   "execution_count": 22,
   "id": "eba06285-292c-4a51-8fc7-6bcfe59cbdec",
   "metadata": {},
   "outputs": [
    {
     "data": {
      "text/plain": [
       "Sample_ID          Hamamatsu_S1787-12\n",
       "Elapsed Time                 5.597869\n",
       "Test_ID         NiOx_C2_77d_4F_094305\n",
       "I_ph(suns)                      0.805\n",
       "V_oc(V)                      1.074103\n",
       "mpp(V)                          0.775\n",
       "J_sc(mA)                    21.923187\n",
       "R_sh                       266.104605\n",
       "R_ser                       10.039115\n",
       "FF                            0.46475\n",
       "PCE(%)                      10.943837\n",
       "Operator                    K2401ssdb\n",
       "Scan_type                           R\n",
       "Lab_location        Downstairs (W125)\n",
       "Cell_number                         2\n",
       "Module                             No\n",
       "Masked                            Yes\n",
       "Mask_area                        55.0\n",
       "Name: 0, dtype: object"
      ]
     },
     "execution_count": 22,
     "metadata": {},
     "output_type": "execute_result"
    }
   ],
   "source": [
    "# Finally, I have all the data that I need, ready to upload to dataverse.\n",
    "first_data_record.loc[0]"
   ]
  },
  {
   "cell_type": "markdown",
   "id": "7ce23273-a962-43cb-84a8-9be42147484a",
   "metadata": {},
   "source": [
    "#### JVScanDataverseTable class.  In this version the data is added to the table with the insert_data() function. It calls the powershell script and passes the data values."
   ]
  },
  {
   "cell_type": "code",
   "execution_count": 23,
   "id": "c7c9bbb9-6f76-43ae-9fae-c3fadf351bd0",
   "metadata": {},
   "outputs": [],
   "source": [
    "del  JVScanDataverseTable"
   ]
  },
  {
   "cell_type": "code",
   "execution_count": 24,
   "id": "457fae27-942e-4d69-b30f-a63da084a824",
   "metadata": {},
   "outputs": [
    {
     "name": "stdout",
     "output_type": "stream",
     "text": [
      "Hello world!\n",
      "CompletedProcess(args='pwsh -ExecutionPolicy Bypass -File \"scripts/insert-data_v4.ps1\" -crm_url \"https://orgc25b23b3.api.crm.dynamics.com/\" -table_name \"cr69a_jv_test_data_v2s\" -cols \"cr69a_sample_id,cr69a_elapsed_time_min,cr69a_base_time_sec,cr69a_test_id,cr69a_iph_suns,cr69a_voc_v,cr69a_mpp_v,cr69a_jsc_macm2,cr69a_rsh,cr69a_rser,cr69a_ff_,cr69a_pce_,cr69a_operator_name,cr69a_scan_type,cr69a_location,cr69a_cell_number,cr69a_module,cr69a_masked,cr69a_mask_area_cm2,cr69a_temperature_c,cr69a_humidity_pct,cr69a_wire_mode,cr69a_path\" -sample_id \"Test 1\" -elapsed_time \"5.60\" -base_time \"0.10\" -test_id \"NiOx_C2_77d_4F_094305c\" -i_ph_suns \"0.00\" -voc_v \"1.07\" -mpp_v \"0.00\" -jsc_ma \"0.00\" -rsh \"266.10\" -rser \"10.04\" -ff \"0.46\" -pce \"10.94\" -operator \"Randy\" -scan_type \"S\" -lab_location \"Upstairs (W426)\" -cell_number \"3\" -module \"Yes\" -masked \"No\" -mask_area \"100.10\" -temp_c \"21\" -hum_pct \"10\" -four_wire_mode \"No\" -scan_data_path \"testx21\" -image_path \"c:\\\\Users\\\\RandallHeadrick\\\\OneDrive - University of Vermont\\\\Software_development\\\\K2401SSDB/93_5F_152003.png\" -image_column_name \"cr69a_scan_image\"', returncode=0)\n"
     ]
    }
   ],
   "source": [
    "# Example usage:\n",
    "# Initialize the JVScanDataverseTable instance with environment-specific parameters.\n",
    "# This is for the table J-V_test_data  with logical name cr69a_jv_test_data.\n",
    "from db_dataverse import JVScanDataverseTable\n",
    "\n",
    "# Example data row as a dictionary.\n",
    "row = {\n",
    "    'sample_id': 'Test 1',\n",
    "    'elapsed_time': '5.60',\n",
    "    'base_time': '0.10',  # New base_time value.\n",
    "    'test_id': 'NiOx_C2_77d_4F_094305c',\n",
    "    'i_ph_suns': '0.00',\n",
    "    'voc_v': '1.07',\n",
    "    'mpp_v': '0.00',\n",
    "    'jsc_ma': '0.00',\n",
    "    'rsh': '266.10',\n",
    "    'rser': '10.04',\n",
    "    'ff': '0.46',\n",
    "    'pce': '10.94',\n",
    "    'operator': 'Randy',\n",
    "    'scan_type': 'S',\n",
    "    'lab_location': 'Upstairs (W426)',\n",
    "    'cell_number': '3',\n",
    "    'module': 'Yes',\n",
    "    'masked': 'No',\n",
    "    'mask_area': '100.10',\n",
    "    'temp_c': '21',  # New.\n",
    "    'hum_pct': '10', # New.\n",
    "    'four_wire_mode': 'No', # New.\n",
    "    'scan_data_path': 'testx21' # New.\n",
    "}\n",
    "\n",
    "# Columnn logical names. \n",
    "col_logical_names = {\n",
    "    'sample_id': 'cr69a_sample_id',\n",
    "    'elapsed_time': 'cr69a_elapsed_time_min',\n",
    "    'base_time': 'cr69a_base_time_sec',  # New base_time value.\n",
    "    'test_id': 'cr69a_test_id',\n",
    "    'i_ph_suns': 'cr69a_iph_suns',\n",
    "    'voc_v': 'cr69a_voc_v',\n",
    "    'mpp_v': 'cr69a_mpp_v',\n",
    "    'jsc_ma': 'cr69a_jsc_macm2',\n",
    "    'rsh': 'cr69a_rsh',\n",
    "    'rser': 'cr69a_rser',\n",
    "    'ff': 'cr69a_ff_',\n",
    "    'pce': 'cr69a_pce_',\n",
    "    'operator': 'cr69a_operator_name',\n",
    "    'scan_type': 'cr69a_scan_type',\n",
    "    'lab_location': 'cr69a_location',\n",
    "    'cell_number': 'cr69a_cell_number',\n",
    "    'module': 'cr69a_module',\n",
    "    'masked': 'cr69a_masked',\n",
    "    'mask_area': 'cr69a_mask_area_cm2',\n",
    "    'temp_c': 'cr69a_temperature_c',  # New.\n",
    "    'hum_pct': 'cr69a_humidity_pct', # New.\n",
    "    'four_wire_mode': 'cr69a_wire_mode', # New.\n",
    "    'scan_data_path': 'cr69a_path' # New.\n",
    "}\n",
    "\n",
    "# Check for consistency between the row data and the column logical names.\n",
    "res = all(col_logical_names.get(key) != None for key in row)\n",
    "\n",
    "if res != True:\n",
    "    print(\"Error:  'row' and 'col_logical_names' keys don't match.\")\n",
    "else:\n",
    "    # Create an instance of the JVScanDataverseTable with environment-specific parameter data.\n",
    "    table = JVScanDataverseTable(\n",
    "        crm_url='https://orgc25b23b3.api.crm.dynamics.com/',\n",
    "        table_name='cr69a_jv_test_data_v2s',\n",
    "        col_logical_names =  col_logical_names\n",
    "    )\n",
    "    # Insert data into the table.  Make sure the 'row' dictionary is consistent with the 'self.cols' parameter of JVScanDataverseTable.\n",
    "    # To do:  we might one day also pass 'cols' as a dictionary with the same keys. Then the class constructor can make sure they are consistent.\n",
    "    #table.insert_data(row)  # Simple version with only the required rows. \n",
    "    returnval = table.insert_data(row, image_path= os.getcwd() +'/93_5F_152003.png', image_column_name='cr69a_scan_image')\n",
    "    # Inserting the Lookup always produces and error.  RLH 051224.\n",
    "    #table.insert_data(row, sample_lookup_id='01e2d5d8-2007-ef11-9f89-000d3a55d192', sample_lookup_name='cr69a_sample_data_lookup')\n",
    "    print(returnval)"
   ]
  },
  {
   "cell_type": "code",
   "execution_count": 23,
   "id": "d9caac5e-7d49-4786-9a9a-37cc05151c3c",
   "metadata": {},
   "outputs": [
    {
     "name": "stdout",
     "output_type": "stream",
     "text": [
      " Volume in drive C is Local Disk\n",
      " Volume Serial Number is 364F-B4C4\n",
      "\n",
      " Directory of C:\\Users\\RandallHeadrick\\OneDrive - University of Vermont\\Software_development\\K2401SSDB\n",
      "\n",
      "05/12/2024  11:47 PM    <DIR>          .\n",
      "05/06/2024  02:45 PM    <DIR>          ..\n",
      "05/06/2024  02:35 PM    <DIR>          .ipynb_checkpoints\n",
      "05/12/2024  11:44 PM    <DIR>          __pycache__\n",
      "05/06/2024  02:49 PM          (23,817) 93_5F_152003.pdf\n",
      "03/02/2022  04:20 PM            16,881 93_5F_152003.png\n",
      "05/12/2024  03:17 PM          (13,575) Checklists.xlsx\n",
      "05/12/2024  11:41 PM             9,147 db_dataverse.py\n",
      "05/12/2024  11:43 PM             7,336 db_form.py\n",
      "05/06/2024  02:51 PM           (3,715) download.png\n",
      "05/05/2024  12:20 AM       (1,473,318) Form_test_V5b.ipynb\n",
      "05/12/2024  07:32 PM         1,505,956 Form_test_V5c.ipynb\n",
      "05/12/2024  11:47 PM         1,481,929 Form_test_V6.ipynb\n",
      "05/12/2024  11:44 PM             1,094 K2401SSDB_questions_latest.json\n",
      "04/30/2024  01:06 PM             1,529 main_questions.json\n",
      "05/08/2024  11:08 PM    <DIR>          scripts\n",
      "04/28/2024  11:26 AM            11,161 test_JV_data.csv\n",
      "              12 File(s)      4,549,458 bytes\n",
      "               5 Dir(s)  415,433,252,864 bytes free\n"
     ]
    }
   ],
   "source": [
    "ls"
   ]
  },
  {
   "cell_type": "markdown",
   "id": "d72c3617-3f6a-4012-b0bd-ccebd7009351",
   "metadata": {},
   "source": [
    "##### End of test script!"
   ]
  },
  {
   "cell_type": "code",
   "execution_count": 29,
   "id": "4d2cc69c-9d23-4b79-9fd6-5f67ac510ae6",
   "metadata": {},
   "outputs": [
    {
     "data": {
      "text/plain": [
       "CompletedProcess(args='pwsh -ExecutionPolicy Bypass -File \"scripts/insert-data_new.ps1\" \"Test 1\" \"0.1\"', returncode=0)"
      ]
     },
     "execution_count": 29,
     "metadata": {},
     "output_type": "execute_result"
    }
   ],
   "source": [
    "import subprocess\n",
    "\n",
    "cli = ('pwsh -ExecutionPolicy Bypass -File \"scripts/insert-data_new.ps1\" \"Test 1\" \"0.1\"')\n",
    "subprocess.run(cli, shell=True)"
   ]
  },
  {
   "cell_type": "code",
   "execution_count": null,
   "id": "01970c46-adb8-451b-8c65-6228780c9445",
   "metadata": {},
   "outputs": [],
   "source": []
  },
  {
   "cell_type": "code",
   "execution_count": null,
   "id": "3e22db2f-4c96-4404-9b3b-0d578473b552",
   "metadata": {},
   "outputs": [],
   "source": []
  }
 ],
 "metadata": {
  "kernelspec": {
   "display_name": "Python 3 (ipykernel)",
   "language": "python",
   "name": "python3"
  },
  "language_info": {
   "codemirror_mode": {
    "name": "ipython",
    "version": 3
   },
   "file_extension": ".py",
   "mimetype": "text/x-python",
   "name": "python",
   "nbconvert_exporter": "python",
   "pygments_lexer": "ipython3",
   "version": "3.12.0"
  }
 },
 "nbformat": 4,
 "nbformat_minor": 5
}
